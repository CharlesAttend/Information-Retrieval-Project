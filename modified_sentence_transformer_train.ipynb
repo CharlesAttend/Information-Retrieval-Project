{
 "cells": [
  {
   "cell_type": "code",
   "execution_count": 2,
   "metadata": {},
   "outputs": [
    {
     "name": "stdout",
     "output_type": "stream",
     "text": [
      "\n",
      "\u001b[1m[\u001b[0m\u001b[34;49mnotice\u001b[0m\u001b[1;39;49m]\u001b[0m\u001b[39;49m A new release of pip is available: \u001b[0m\u001b[31;49m23.1\u001b[0m\u001b[39;49m -> \u001b[0m\u001b[32;49m23.1.2\u001b[0m\n",
      "\u001b[1m[\u001b[0m\u001b[34;49mnotice\u001b[0m\u001b[1;39;49m]\u001b[0m\u001b[39;49m To update, run: \u001b[0m\u001b[32;49mpip install --upgrade pip\u001b[0m\n"
     ]
    }
   ],
   "source": [
    "!pip -q install wandb"
   ]
  },
  {
   "cell_type": "code",
   "execution_count": 6,
   "metadata": {},
   "outputs": [
    {
     "name": "stderr",
     "output_type": "stream",
     "text": [
      "\u001b[34m\u001b[1mwandb\u001b[0m: Currently logged in as: \u001b[33mcharlesattend_\u001b[0m. Use \u001b[1m`wandb login --relogin`\u001b[0m to force relogin\n"
     ]
    },
    {
     "data": {
      "application/vnd.jupyter.widget-view+json": {
       "model_id": "88e331cff43c40709c6dbb8f26184548",
       "version_major": 2,
       "version_minor": 0
      },
      "text/plain": [
       "VBox(children=(Label(value='Waiting for wandb.init()...\\r'), FloatProgress(value=0.016668541350001457, max=1.0…"
      ]
     },
     "metadata": {},
     "output_type": "display_data"
    },
    {
     "data": {
      "text/html": [
       "Tracking run with wandb version 0.15.2"
      ],
      "text/plain": [
       "<IPython.core.display.HTML object>"
      ]
     },
     "metadata": {},
     "output_type": "display_data"
    },
    {
     "data": {
      "text/html": [
       "Run data is saved locally in <code>/mnt/48566869-e5b1-482e-907d-2c513d1afe25/Documents/Information-Retrieval-Project/wandb/run-20230509_140854-sllzybyy</code>"
      ],
      "text/plain": [
       "<IPython.core.display.HTML object>"
      ]
     },
     "metadata": {},
     "output_type": "display_data"
    },
    {
     "data": {
      "text/html": [
       "Syncing run <strong><a href='https://wandb.ai/charlesattend_/Information%20Retrieval%20Project/runs/sllzybyy' target=\"_blank\">rural-grass-1</a></strong> to <a href='https://wandb.ai/charlesattend_/Information%20Retrieval%20Project' target=\"_blank\">Weights & Biases</a> (<a href='https://wandb.me/run' target=\"_blank\">docs</a>)<br/>"
      ],
      "text/plain": [
       "<IPython.core.display.HTML object>"
      ]
     },
     "metadata": {},
     "output_type": "display_data"
    },
    {
     "data": {
      "text/html": [
       " View project at <a href='https://wandb.ai/charlesattend_/Information%20Retrieval%20Project' target=\"_blank\">https://wandb.ai/charlesattend_/Information%20Retrieval%20Project</a>"
      ],
      "text/plain": [
       "<IPython.core.display.HTML object>"
      ]
     },
     "metadata": {},
     "output_type": "display_data"
    },
    {
     "data": {
      "text/html": [
       " View run at <a href='https://wandb.ai/charlesattend_/Information%20Retrieval%20Project/runs/sllzybyy' target=\"_blank\">https://wandb.ai/charlesattend_/Information%20Retrieval%20Project/runs/sllzybyy</a>"
      ],
      "text/plain": [
       "<IPython.core.display.HTML object>"
      ]
     },
     "metadata": {},
     "output_type": "display_data"
    },
    {
     "data": {
      "text/html": [
       "<button onClick=\"this.nextSibling.style.display='block';this.style.display='none';\">Display W&B run</button><iframe src='https://wandb.ai/charlesattend_/Information%20Retrieval%20Project/runs/sllzybyy?jupyter=true' style='border:none;width:100%;height:420px;display:none;'></iframe>"
      ],
      "text/plain": [
       "<wandb.sdk.wandb_run.Run at 0x7f36d468d840>"
      ]
     },
     "execution_count": 6,
     "metadata": {},
     "output_type": "execute_result"
    }
   ],
   "source": [
    "import wandb\n",
    "wandb.login()\n",
    "wandb.init(\n",
    "    # set the wandb project where this run will be logged\n",
    "    project=\"Information Retrieval Project\",\n",
    ")"
   ]
  },
  {
   "cell_type": "code",
   "execution_count": 1,
   "metadata": {},
   "outputs": [],
   "source": [
    "from torch.utils.data import DataLoader\n",
    "from torch.optim import Adam\n",
    "from sentence_transformers import LoggingHandler, util\n",
    "from sentence_transformers.cross_encoder import CrossEncoder\n",
    "from sentence_transformers.cross_encoder.evaluation import CERerankingEvaluator\n",
    "from sentence_transformers import InputExample\n",
    "from sentence_transformers import SentenceTransformer\n",
    "from transformers import AutoModelForSequenceClassification, AutoTokenizer, AutoConfig\n",
    "import logging\n",
    "from datetime import datetime\n",
    "import gzip\n",
    "import os\n",
    "import tarfile\n",
    "import tqdm\n",
    "from tqdm import trange"
   ]
  },
  {
   "cell_type": "code",
   "execution_count": null,
   "metadata": {},
   "outputs": [],
   "source": [
    "from typing import Callable, Dict, Type\n",
    "\n",
    "import torch\n",
    "from sentence_transformers.evaluation import SentenceEvaluator\n",
    "from torch import nn\n",
    "from torch.optim import Optimizer\n",
    "from torch.utils.data import DataLoader\n",
    "\n",
    "\n",
    "class CustomCrossEncoder(CrossEncoder):\n",
    "    def __init__(self, model_name: str, num_labels: int = None, max_length: int = None, device: str = None, tokenizer_args: Dict = ..., automodel_args: Dict = ..., default_activation_function=None):\n",
    "        super().__init__(model_name, num_labels, max_length, device, tokenizer_args, automodel_args, default_activation_function)\n",
    "        \n",
    "    def fit(self, train_dataloader: DataLoader, evaluator: SentenceEvaluator = None, epochs: int = 1, loss_fct=None, activation_fct=..., scheduler: str = 'WarmupLinear', warmup_steps: int = 10000, optimizer_class: Type[Optimizer] = torch.optim.AdamW, optimizer_params: Dict[str, object] = ..., weight_decay: float = 0.01, evaluation_steps: int = 0, output_path: str = None, save_best_model: bool = True, max_grad_norm: float = 1, use_amp: bool = False, callback: Callable[[float, int, int], None] = None, show_progress_bar: bool = True):\n",
    "        \"\"\"\n",
    "        Train the model with the given training objective\n",
    "        Each training objective is sampled in turn for one batch.\n",
    "        We sample only as many batches from each objective as there are in the smallest one\n",
    "        to make sure of equal training with each dataset.\n",
    "\n",
    "        :param train_dataloader: DataLoader with training InputExamples\n",
    "        :param evaluator: An evaluator (sentence_transformers.evaluation) evaluates the model performance during training on held-out dev data. It is used to determine the best model that is saved to disc.\n",
    "        :param epochs: Number of epochs for training\n",
    "        :param loss_fct: Which loss function to use for training. If None, will use nn.BCEWithLogitsLoss() if self.config.num_labels == 1 else nn.CrossEntropyLoss()\n",
    "        :param activation_fct: Activation function applied on top of logits output of model.\n",
    "        :param scheduler: Learning rate scheduler. Available schedulers: constantlr, warmupconstant, warmuplinear, warmupcosine, warmupcosinewithhardrestarts\n",
    "        :param warmup_steps: Behavior depends on the scheduler. For WarmupLinear (default), the learning rate is increased from o up to the maximal learning rate. After these many training steps, the learning rate is decreased linearly back to zero.\n",
    "        :param optimizer_class: Optimizer\n",
    "        :param optimizer_params: Optimizer parameters\n",
    "        :param weight_decay: Weight decay for model parameters\n",
    "        :param evaluation_steps: If > 0, evaluate the model using evaluator after each number of training steps\n",
    "        :param output_path: Storage path for the model and evaluation files\n",
    "        :param save_best_model: If true, the best model (according to evaluator) is stored at output_path\n",
    "        :param max_grad_norm: Used for gradient normalization.\n",
    "        :param use_amp: Use Automatic Mixed Precision (AMP). Only for Pytorch >= 1.6.0\n",
    "        :param callback: Callback function that is invoked after each evaluation.\n",
    "                It must accept the following three parameters in this order:\n",
    "                `score`, `epoch`, `steps`\n",
    "        :param show_progress_bar: If True, output a tqdm progress bar\n",
    "        \"\"\"\n",
    "        train_dataloader.collate_fn = self.smart_batching_collate\n",
    "\n",
    "        if use_amp:\n",
    "            from torch.cuda.amp import autocast\n",
    "            scaler = torch.cuda.amp.GradScaler()\n",
    "\n",
    "        self.model.to(self._target_device)\n",
    "\n",
    "        if output_path is not None:\n",
    "            os.makedirs(output_path, exist_ok=True)\n",
    "\n",
    "        self.best_score = -9999999\n",
    "        num_train_steps = int(len(train_dataloader) * epochs)\n",
    "\n",
    "        # Prepare optimizers\n",
    "        param_optimizer = list(self.model.named_parameters())\n",
    "\n",
    "        no_decay = ['bias', 'LayerNorm.bias', 'LayerNorm.weight']\n",
    "        optimizer_grouped_parameters = [\n",
    "            {'params': [p for n, p in param_optimizer if not any(nd in n for nd in no_decay)], 'weight_decay': weight_decay},\n",
    "            {'params': [p for n, p in param_optimizer if any(nd in n for nd in no_decay)], 'weight_decay': 0.0}\n",
    "        ]\n",
    "\n",
    "        optimizer = optimizer_class(optimizer_grouped_parameters, **optimizer_params)\n",
    "\n",
    "        if isinstance(scheduler, str):\n",
    "            scheduler = SentenceTransformer._get_scheduler(optimizer, scheduler=scheduler, warmup_steps=warmup_steps, t_total=num_train_steps)\n",
    "\n",
    "        if loss_fct is None:\n",
    "            loss_fct = nn.BCEWithLogitsLoss() if self.config.num_labels == 1 else nn.CrossEntropyLoss()\n",
    "\n",
    "\n",
    "        skip_scheduler = False\n",
    "        for epoch in trange(epochs, desc=\"Epoch\", disable=not show_progress_bar):\n",
    "            training_steps = 0\n",
    "            self.model.zero_grad()\n",
    "            self.model.train()\n",
    "\n",
    "            for features, labels in tqdm(train_dataloader, desc=\"Iteration\", smoothing=0.05, disable=not show_progress_bar):\n",
    "                if use_amp:\n",
    "                    with autocast():\n",
    "                        model_predictions = self.model(**features, return_dict=True)\n",
    "                        logits = activation_fct(model_predictions.logits)\n",
    "                        if self.config.num_labels == 1:\n",
    "                            logits = logits.view(-1)\n",
    "                        loss_value = loss_fct(logits, labels)\n",
    "\n",
    "                    scale_before_step = scaler.get_scale()\n",
    "                    scaler.scale(loss_value).backward()\n",
    "                    scaler.unscale_(optimizer)\n",
    "                    torch.nn.utils.clip_grad_norm_(self.model.parameters(), max_grad_norm)\n",
    "                    scaler.step(optimizer)\n",
    "                    scaler.update()\n",
    "\n",
    "                    skip_scheduler = scaler.get_scale() != scale_before_step\n",
    "                else:\n",
    "                    model_predictions = self.model(**features, return_dict=True)\n",
    "                    logits = activation_fct(model_predictions.logits)\n",
    "                    if self.config.num_labels == 1:\n",
    "                        logits = logits.view(-1)\n",
    "                    loss_value = loss_fct(logits, labels)\n",
    "                    wandb.log({\"loss\": loss_value})\n",
    "                    loss_value.backward()\n",
    "                    torch.nn.utils.clip_grad_norm_(self.model.parameters(), max_grad_norm)\n",
    "                    optimizer.step()\n",
    "\n",
    "                optimizer.zero_grad()\n",
    "\n",
    "                if not skip_scheduler:\n",
    "                    scheduler.step()\n",
    "\n",
    "                training_steps += 1\n",
    "\n",
    "                if evaluator is not None and evaluation_steps > 0 and training_steps % evaluation_steps == 0:\n",
    "                    self._eval_during_training(evaluator, output_path, save_best_model, epoch, training_steps, callback)\n",
    "\n",
    "                    self.model.zero_grad()\n",
    "                    self.model.train()\n",
    "\n",
    "            if evaluator is not None:\n",
    "                self._eval_during_training(evaluator, output_path, save_best_model, epoch, -1, callback)\n",
    "\n",
    "def eval_callback(score, epoch, step):\n",
    "    wandb.log({'MRR': score})"
   ]
  },
  {
   "cell_type": "code",
   "execution_count": 2,
   "metadata": {},
   "outputs": [
    {
     "name": "stderr",
     "output_type": "stream",
     "text": [
      "Some weights of BertForSequenceClassification were not initialized from the model checkpoint at microsoft/MiniLM-L12-H384-uncased and are newly initialized: ['classifier.weight', 'classifier.bias']\n",
      "You should probably TRAIN this model on a down-stream task to be able to use it for predictions and inference.\n"
     ]
    },
    {
     "name": "stdout",
     "output_type": "stream",
     "text": [
      "2023-05-09 13:50:10 - Use pytorch device: cuda\n"
     ]
    }
   ],
   "source": [
    "\n",
    "#### Just some code to print debug information to stdout\n",
    "logging.basicConfig(format='%(asctime)s - %(message)s',\n",
    "                    datefmt='%Y-%m-%d %H:%M:%S',\n",
    "                    level=logging.INFO,\n",
    "                    handlers=[LoggingHandler()])\n",
    "#### /print debug information to stdout\n",
    "\n",
    "\n",
    "#First, we define the transformer model we want to fine-tune\n",
    "model_name = 'microsoft/MiniLM-L12-H384-uncased'\n",
    "train_batch_size = 32\n",
    "num_epochs = 1\n",
    "model_save_path = 'output/training_ms-marco_cross-encoder-'+model_name.replace(\"/\", \"-\")+'-'+datetime.now().strftime(\"%Y-%m-%d_%H-%M-%S\")\n",
    "\n",
    "\n",
    "# We train the network with as a binary label task\n",
    "# Given [query, passage] is the label 0 = irrelevant or 1 = relevant?\n",
    "# We use a positive-to-negative ratio: For 1 positive sample (label 1) we include 4 negative samples (label 0)\n",
    "# in our training setup. For the negative samples, we use the triplets provided by MS Marco that\n",
    "# specify (query, positive sample, negative sample).\n",
    "pos_neg_ration = 4\n",
    "\n",
    "# Maximal number of training samples we want to use\n",
    "max_train_samples = 2e7\n",
    "# max_train_samples = 8_800_000\n",
    "\n",
    "\n",
    "#We set num_labels=1, which predicts a continous score between 0 and 1\n",
    "model = CrossEncoder(model_name, num_labels=1, max_length=512)\n",
    "\n",
    "\n",
    "### Now we read the MS Marco dataset\n",
    "data_folder = './datasets/collectionandqueries'\n",
    "os.makedirs(data_folder, exist_ok=True)\n"
   ]
  },
  {
   "cell_type": "code",
   "execution_count": 3,
   "metadata": {},
   "outputs": [
    {
     "name": "stderr",
     "output_type": "stream",
     "text": [
      "20.0Mit [01:15, 266kit/s] \n"
     ]
    }
   ],
   "source": [
    "#### Read the corpus files, that contain all the passages. Store them in the corpus dict\n",
    "corpus = {}\n",
    "collection_filepath = os.path.join(data_folder, 'collection.tsv')\n",
    "if not os.path.exists(collection_filepath):\n",
    "    tar_filepath = os.path.join(data_folder, 'collection.tar.gz')\n",
    "    if not os.path.exists(tar_filepath):\n",
    "        logging.info(\"Download collection.tar.gz\")\n",
    "        util.http_get('https://msmarco.blob.core.windows.net/msmarcoranking/collection.tar.gz', tar_filepath)\n",
    "\n",
    "    with tarfile.open(tar_filepath, \"r:gz\") as tar:\n",
    "        tar.extractall(path=data_folder)\n",
    "\n",
    "with open(collection_filepath, 'r', encoding='utf8') as fIn:\n",
    "    for line in fIn:\n",
    "        pid, passage = line.strip().split(\"\\t\")\n",
    "        corpus[pid] = passage\n",
    "\n",
    "\n",
    "### Read the train queries, store in queries dict\n",
    "queries = {}\n",
    "queries_filepath = os.path.join(data_folder, 'queries.train.tsv')\n",
    "if not os.path.exists(queries_filepath):\n",
    "    tar_filepath = os.path.join(data_folder, 'queries.tar.gz')\n",
    "    if not os.path.exists(tar_filepath):\n",
    "        logging.info(\"Download queries.tar.gz\")\n",
    "        util.http_get('https://msmarco.blob.core.windows.net/msmarcoranking/queries.tar.gz', tar_filepath)\n",
    "\n",
    "    with tarfile.open(tar_filepath, \"r:gz\") as tar:\n",
    "        tar.extractall(path=data_folder)\n",
    "\n",
    "\n",
    "with open(queries_filepath, 'r', encoding='utf8') as fIn:\n",
    "    for line in fIn:\n",
    "        qid, query = line.strip().split(\"\\t\")\n",
    "        queries[qid] = query\n",
    "\n",
    "\n",
    "\n",
    "### Now we create our training & dev data\n",
    "train_samples = []\n",
    "dev_samples = {}\n",
    "\n",
    "# We use 200 random queries from the train set for evaluation during training\n",
    "# Each query has at least one relevant and up to 200 irrelevant (negative) passages\n",
    "num_dev_queries = 200\n",
    "num_max_dev_negatives = 200\n",
    "\n",
    "# msmarco-qidpidtriples.rnd-shuf.train-eval.tsv.gz and msmarco-qidpidtriples.rnd-shuf.train.tsv.gz is a randomly\n",
    "# shuffled version of qidpidtriples.train.full.2.tsv.gz from the MS Marco website\n",
    "# We extracted in the train-eval split 500 random queries that can be used for evaluation during training\n",
    "train_eval_filepath = os.path.join(data_folder, 'msmarco-qidpidtriples.rnd-shuf.train-eval.tsv.gz')\n",
    "if not os.path.exists(train_eval_filepath):\n",
    "    logging.info(\"Download \"+os.path.basename(train_eval_filepath))\n",
    "    util.http_get('https://sbert.net/datasets/msmarco-qidpidtriples.rnd-shuf.train-eval.tsv.gz', train_eval_filepath)\n",
    "\n",
    "with gzip.open(train_eval_filepath, 'rt') as fIn:\n",
    "    for line in fIn:\n",
    "        qid, pos_id, neg_id = line.strip().split()\n",
    "\n",
    "        if qid not in dev_samples and len(dev_samples) < num_dev_queries:\n",
    "            dev_samples[qid] = {'query': queries[qid], 'positive': set(), 'negative': set()}\n",
    "\n",
    "        if qid in dev_samples:\n",
    "            dev_samples[qid]['positive'].add(corpus[pos_id])\n",
    "\n",
    "            if len(dev_samples[qid]['negative']) < num_max_dev_negatives:\n",
    "                dev_samples[qid]['negative'].add(corpus[neg_id])\n",
    "\n",
    "\n",
    "# Read our training file\n",
    "train_filepath = os.path.join(data_folder, 'msmarco-qidpidtriples.rnd-shuf.train.tsv.gz')\n",
    "if not os.path.exists(train_filepath):\n",
    "    logging.info(\"Download \"+os.path.basename(train_filepath))\n",
    "    util.http_get('https://sbert.net/datasets/msmarco-qidpidtriples.rnd-shuf.train.tsv.gz', train_filepath)\n",
    "\n",
    "cnt = 0\n",
    "with gzip.open(train_filepath, 'rt') as fIn:\n",
    "    for line in tqdm.tqdm(fIn, unit_scale=True):\n",
    "        qid, pos_id, neg_id = line.strip().split()\n",
    "\n",
    "        if qid in dev_samples:\n",
    "            continue\n",
    "\n",
    "        query = queries[qid]\n",
    "        if (cnt % (pos_neg_ration+1)) == 0:\n",
    "            passage = corpus[pos_id]\n",
    "            label = 1\n",
    "        else:\n",
    "            passage = corpus[neg_id]\n",
    "            label = 0\n",
    "\n",
    "        train_samples.append(InputExample(texts=[query, passage], label=label))\n",
    "        cnt += 1\n",
    "\n",
    "        if cnt >= max_train_samples:\n",
    "            break\n",
    "\n",
    "# We create a DataLoader to load our train samples\n",
    "train_dataloader = DataLoader(train_samples, shuffle=True, batch_size=train_batch_size)\n"
   ]
  },
  {
   "cell_type": "code",
   "execution_count": null,
   "metadata": {},
   "outputs": [],
   "source": [
    "# We add an evaluator, which evaluates the performance during training\n",
    "# It performs a classification task and measures scores like F1 (finding relevant passages) and Average Precision\n",
    "evaluator = CERerankingEvaluator(dev_samples, name='train-eval')\n",
    "\n",
    "# Configure the training\n",
    "warmup_steps = 5000\n",
    "logging.info(\"Warmup-steps: {}\".format(warmup_steps))\n",
    "\n",
    "\n",
    "\n",
    "# Train the model\n",
    "model.fit(train_dataloader=train_dataloader,\n",
    "          evaluator=evaluator,\n",
    "          epochs=num_epochs,\n",
    "          evaluation_steps=100,\n",
    "          warmup_steps=warmup_steps,\n",
    "          output_path=model_save_path,\n",
    "          use_amp=True,\n",
    "          optimizer_class=Adam,\n",
    "          optimizer_params={'lr': 7e-6},\n",
    "          callback=eval_callback)\n",
    "\n",
    "#Save latest model\n",
    "model.save(model_save_path+'-latest')"
   ]
  }
 ],
 "metadata": {
  "kernelspec": {
   "display_name": ".venv",
   "language": "python",
   "name": "python3"
  },
  "language_info": {
   "codemirror_mode": {
    "name": "ipython",
    "version": 3
   },
   "file_extension": ".py",
   "mimetype": "text/x-python",
   "name": "python",
   "nbconvert_exporter": "python",
   "pygments_lexer": "ipython3",
   "version": "3.10.10"
  },
  "orig_nbformat": 4
 },
 "nbformat": 4,
 "nbformat_minor": 2
}
