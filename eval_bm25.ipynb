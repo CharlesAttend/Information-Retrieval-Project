{
 "cells": [
  {
   "cell_type": "code",
   "execution_count": 1,
   "metadata": {},
   "outputs": [
    {
     "name": "stderr",
     "output_type": "stream",
     "text": [
      "/tmp/ipykernel_130013/1964598435.py:7: TqdmWarning: IProgress not found. Please update jupyter and ipywidgets. See https://ipywidgets.readthedocs.io/en/stable/user_install.html\n",
      "  from tqdm.autonotebook import tqdm, trange\n"
     ]
    }
   ],
   "source": [
    "import os\n",
    "from load_dataset import load_corpus, load_queries, load_retrieval\n",
    "from crossencoder_bm25 import CustomCrossEncoder\n",
    "import numpy as np"
   ]
  },
  {
   "cell_type": "code",
   "execution_count": 2,
   "metadata": {},
   "outputs": [
    {
     "name": "stderr",
     "output_type": "stream",
     "text": [
      "8.84Mit [00:11, 776kit/s]\n",
      "809kit [00:00, 1.71Mit/s]\n",
      "543kit [00:00, 1.29Mit/s]\n"
     ]
    }
   ],
   "source": [
    "data_folder = \"./data/msmarco-passage/\"\n",
    "corpus = load_corpus(os.path.join(data_folder, \"collection.tsv\"))\n",
    "queries = load_queries(os.path.join(data_folder, \"queries.dev.small.tsv\"))\n",
    "retrieval_samples = load_retrieval(\n",
    "        os.path.join(data_folder, \"msmarco.bm25.dev.small.tsv.gz\"), corpus, queries\n",
    "    )\n",
    "\n"
   ]
  },
  {
   "cell_type": "code",
   "execution_count": 3,
   "metadata": {},
   "outputs": [],
   "source": [
    "# First, we define the transformer model we want to fine-tune\n",
    "model_name = \"output/training_ms-marco_cross-encoder-microsoft-MiniLM-L12-H384-uncased-2023-05-20_12-13-19-latest\"\n",
    "\n",
    "# We set num_labels=1, which predicts a continous score between 0 and 1\n",
    "model = CustomCrossEncoder(model_name, num_labels=1, max_length=512)\n"
   ]
  },
  {
   "cell_type": "code",
   "execution_count": null,
   "metadata": {},
   "outputs": [],
   "source": [
    "# Compute the similarity scores for these combinations\n",
    "similarity_scores = model.predict(retrieval_samples)"
   ]
  },
  {
   "cell_type": "code",
   "execution_count": null,
   "metadata": {},
   "outputs": [],
   "source": [
    "# Sort the scores in decreasing order\n",
    "sim_scores_argsort = reversed(np.argsort(similarity_scores))"
   ]
  }
 ],
 "metadata": {
  "kernelspec": {
   "display_name": ".venv",
   "language": "python",
   "name": "python3"
  },
  "language_info": {
   "codemirror_mode": {
    "name": "ipython",
    "version": 3
   },
   "file_extension": ".py",
   "mimetype": "text/x-python",
   "name": "python",
   "nbconvert_exporter": "python",
   "pygments_lexer": "ipython3",
   "version": "3.9.6"
  },
  "orig_nbformat": 4
 },
 "nbformat": 4,
 "nbformat_minor": 2
}
