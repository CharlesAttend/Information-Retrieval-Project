{
 "cells": [
  {
   "cell_type": "code",
   "execution_count": 1,
   "metadata": {},
   "outputs": [
    {
     "name": "stdout",
     "output_type": "stream",
     "text": [
      "Collecting ir_datasets\n",
      "  Downloading ir_datasets-0.5.4-py3-none-any.whl (311 kB)\n",
      "\u001b[K     |████████████████████████████████| 311 kB 28.7 MB/s eta 0:00:01\n",
      "\u001b[?25hRequirement already satisfied: numpy>=1.18.1 in ./.venv/lib/python3.8/site-packages (from ir_datasets) (1.24.2)\n",
      "Requirement already satisfied: tqdm>=4.38.0 in ./.venv/lib/python3.8/site-packages (from ir_datasets) (4.65.0)\n",
      "Collecting ijson>=3.1.3\n",
      "  Downloading ijson-3.2.0.post0-cp38-cp38-manylinux_2_17_x86_64.manylinux2014_x86_64.whl (114 kB)\n",
      "\u001b[K     |████████████████████████████████| 114 kB 87.6 MB/s eta 0:00:01\n",
      "\u001b[?25hCollecting trec-car-tools>=2.5.4\n",
      "  Downloading trec_car_tools-2.6-py3-none-any.whl (8.4 kB)\n",
      "Collecting warc3-wet>=0.2.3\n",
      "  Downloading warc3_wet-0.2.3-py3-none-any.whl (13 kB)\n",
      "Requirement already satisfied: pyyaml>=5.3.1 in ./.venv/lib/python3.8/site-packages (from ir_datasets) (6.0)\n",
      "Requirement already satisfied: requests>=2.22.0 in ./.venv/lib/python3.8/site-packages (from ir_datasets) (2.28.2)\n",
      "Collecting zlib-state>=0.1.3\n",
      "  Downloading zlib_state-0.1.5-cp38-cp38-manylinux2010_x86_64.whl (72 kB)\n",
      "\u001b[K     |████████████████████████████████| 72 kB 2.0 MB/s  eta 0:00:01\n",
      "\u001b[?25hCollecting unlzw3>=0.2.1\n",
      "  Downloading unlzw3-0.2.2-py3-none-any.whl (6.1 kB)\n",
      "Collecting lz4>=3.1.1\n",
      "  Downloading lz4-4.3.2-cp38-cp38-manylinux_2_17_x86_64.manylinux2014_x86_64.whl (1.3 MB)\n",
      "\u001b[K     |████████████████████████████████| 1.3 MB 57.8 MB/s eta 0:00:01\n",
      "\u001b[?25hCollecting lxml>=4.5.2\n",
      "  Downloading lxml-4.9.2-cp38-cp38-manylinux_2_17_x86_64.manylinux2014_x86_64.manylinux_2_24_x86_64.whl (7.1 MB)\n",
      "\u001b[K     |████████████████████████████████| 7.1 MB 77.6 MB/s eta 0:00:01\n",
      "\u001b[?25hCollecting pyautocorpus>=0.1.1\n",
      "  Downloading pyautocorpus-0.1.9-cp38-cp38-manylinux_2_12_x86_64.manylinux2010_x86_64.whl (293 kB)\n",
      "\u001b[K     |████████████████████████████████| 293 kB 60.0 MB/s eta 0:00:01\n",
      "\u001b[?25hCollecting warc3-wet-clueweb09>=0.2.5\n",
      "  Downloading warc3-wet-clueweb09-0.2.5.tar.gz (17 kB)\n",
      "Collecting beautifulsoup4>=4.4.1\n",
      "  Downloading beautifulsoup4-4.12.0-py3-none-any.whl (132 kB)\n",
      "\u001b[K     |████████████████████████████████| 132 kB 84.4 MB/s eta 0:00:01\n",
      "\u001b[?25hCollecting cbor>=1.0.0\n",
      "  Downloading cbor-1.0.0.tar.gz (20 kB)\n",
      "Requirement already satisfied: certifi>=2017.4.17 in ./.venv/lib/python3.8/site-packages (from requests>=2.22.0->ir_datasets) (2022.12.7)\n",
      "Requirement already satisfied: charset-normalizer<4,>=2 in ./.venv/lib/python3.8/site-packages (from requests>=2.22.0->ir_datasets) (3.1.0)\n",
      "Requirement already satisfied: urllib3<1.27,>=1.21.1 in ./.venv/lib/python3.8/site-packages (from requests>=2.22.0->ir_datasets) (1.26.15)\n",
      "Requirement already satisfied: idna<4,>=2.5 in ./.venv/lib/python3.8/site-packages (from requests>=2.22.0->ir_datasets) (3.4)\n",
      "Collecting soupsieve>1.2\n",
      "  Downloading soupsieve-2.4-py3-none-any.whl (37 kB)\n",
      "Building wheels for collected packages: warc3-wet-clueweb09, cbor\n",
      "  Building wheel for warc3-wet-clueweb09 (setup.py) ... \u001b[?25ldone\n",
      "\u001b[?25h  Created wheel for warc3-wet-clueweb09: filename=warc3_wet_clueweb09-0.2.5-py3-none-any.whl size=18909 sha256=4a7d6fe2eb78bb98c4a44f26e61f05a4a80ddda33210db02412cbc0bd85ca227\n",
      "  Stored in directory: /home/charles/.cache/pip/wheels/2f/81/96/219c1a4ebbcb766834ccef089c56481b761c26d8ed235e21dc\n",
      "  Building wheel for cbor (setup.py) ... \u001b[?25ldone\n",
      "\u001b[?25h  Created wheel for cbor: filename=cbor-1.0.0-cp38-cp38-linux_x86_64.whl size=57883 sha256=de43c5f252304d781cc7dfe5ddd519b6931d5d6ded054bed17589f76ebe6cb2c\n",
      "  Stored in directory: /home/charles/.cache/pip/wheels/31/3a/8a/9d1a5e6f83f620826578089812b8ac236b86eaf4fbc3b36384\n",
      "Successfully built warc3-wet-clueweb09 cbor\n",
      "Installing collected packages: ijson, cbor, trec-car-tools, warc3-wet, zlib-state, unlzw3, lz4, lxml, pyautocorpus, warc3-wet-clueweb09, soupsieve, beautifulsoup4, ir-datasets\n",
      "Successfully installed beautifulsoup4-4.12.0 cbor-1.0.0 ijson-3.2.0.post0 ir-datasets-0.5.4 lxml-4.9.2 lz4-4.3.2 pyautocorpus-0.1.9 soupsieve-2.4 trec-car-tools-2.6 unlzw3-0.2.2 warc3-wet-0.2.3 warc3-wet-clueweb09-0.2.5 zlib-state-0.1.5\n"
     ]
    }
   ],
   "source": [
    "!pip install ir_datasets"
   ]
  },
  {
   "cell_type": "code",
   "execution_count": null,
   "metadata": {},
   "outputs": [],
   "source": [
    "import ir_datasets"
   ]
  },
  {
   "attachments": {},
   "cell_type": "markdown",
   "metadata": {},
   "source": [
    "# MSMARCO Passage"
   ]
  },
  {
   "attachments": {},
   "cell_type": "markdown",
   "metadata": {},
   "source": [
    "https://ir-datasets.com/msmarco-passage.html"
   ]
  },
  {
   "cell_type": "code",
   "execution_count": null,
   "metadata": {},
   "outputs": [],
   "source": [
    "dataset = ir_datasets.load(\"msmarco-passage\")"
   ]
  },
  {
   "attachments": {},
   "cell_type": "markdown",
   "metadata": {},
   "source": [
    "## TREC\n",
    "\n",
    "On trouve les jeux de donéne dans ir-datasets aussi, mais il y en a plusieurs, lequel ?\n",
    "Utilise ctrl + f \n",
    "\n",
    "https://ir-datasets.com/index.html\n"
   ]
  }
 ],
 "metadata": {
  "kernelspec": {
   "display_name": ".venv",
   "language": "python",
   "name": "python3"
  },
  "language_info": {
   "codemirror_mode": {
    "name": "ipython",
    "version": 3
   },
   "file_extension": ".py",
   "mimetype": "text/x-python",
   "name": "python",
   "nbconvert_exporter": "python",
   "pygments_lexer": "ipython3",
   "version": "3.8.10"
  },
  "orig_nbformat": 4
 },
 "nbformat": 4,
 "nbformat_minor": 2
}
