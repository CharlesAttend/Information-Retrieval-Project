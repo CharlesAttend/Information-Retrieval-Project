{
 "cells": [
  {
   "cell_type": "code",
   "execution_count": 3,
   "metadata": {},
   "outputs": [
    {
     "name": "stderr",
     "output_type": "stream",
     "text": [
      "/home/charles/Information-Retrieval-Project/.venv/lib/python3.8/site-packages/tqdm/auto.py:21: TqdmWarning: IProgress not found. Please update jupyter and ipywidgets. See https://ipywidgets.readthedocs.io/en/stable/user_install.html\n",
      "  from .autonotebook import tqdm as notebook_tqdm\n",
      "Downloading (…)lve/main/config.json: 100%|██████████| 607/607 [00:00<00:00, 201kB/s]\n",
      "Downloading pytorch_model.bin: 100%|██████████| 329M/329M [00:04<00:00, 78.9MB/s] \n",
      "Downloading (…)okenizer_config.json: 100%|██████████| 148/148 [00:00<00:00, 88.5kB/s]\n",
      "Downloading (…)olve/main/vocab.json: 100%|██████████| 899k/899k [00:00<00:00, 1.89MB/s]\n",
      "Downloading (…)olve/main/merges.txt: 100%|██████████| 456k/456k [00:00<00:00, 1.44MB/s]\n",
      "Downloading (…)cial_tokens_map.json: 100%|██████████| 772/772 [00:00<00:00, 447kB/s]\n"
     ]
    },
    {
     "name": "stdout",
     "output_type": "stream",
     "text": [
      "Query: A man is eating pasta.\n",
      "0.67\tA man is eating food.\n",
      "0.34\tA man is eating a piece of bread.\n",
      "0.08\tA man is riding a horse.\n",
      "0.07\tA man is riding a white horse on an enclosed ground.\n",
      "0.01\tThe girl is carrying a baby.\n",
      "0.01\tTwo men pushed carts through the woods.\n",
      "0.01\tA monkey is playing drums.\n",
      "0.01\tA woman is playing violin.\n",
      "0.01\tA cheetah is running behind its prey.\n"
     ]
    }
   ],
   "source": [
    "from sentence_transformers.cross_encoder import CrossEncoder\n",
    "import numpy as np\n",
    "\n",
    "# Pre-trained cross encoder\n",
    "model = CrossEncoder('cross-encoder/stsb-distilroberta-base')\n",
    "\n",
    "# We want to compute the similarity between the query sentence\n",
    "query = 'A man is eating pasta.'\n",
    "\n",
    "# With all sentences in the corpus\n",
    "corpus = ['A man is eating food.',\n",
    "          'A man is eating a piece of bread.',\n",
    "          'The girl is carrying a baby.',\n",
    "          'A man is riding a horse.',\n",
    "          'A woman is playing violin.',\n",
    "          'Two men pushed carts through the woods.',\n",
    "          'A man is riding a white horse on an enclosed ground.',\n",
    "          'A monkey is playing drums.',\n",
    "          'A cheetah is running behind its prey.'\n",
    "          ]\n",
    "\n",
    "# So we create the respective sentence combinations\n",
    "sentence_combinations = [[query, corpus_sentence] for corpus_sentence in corpus]\n",
    "\n",
    "# Compute the similarity scores for these combinations\n",
    "similarity_scores = model.predict(sentence_combinations)\n",
    "\n",
    "# Sort the scores in decreasing order\n",
    "sim_scores_argsort = reversed(np.argsort(similarity_scores))\n",
    "\n",
    "# Print the scores\n",
    "print(\"Query:\", query)\n",
    "for idx in sim_scores_argsort:\n",
    "    print(\"{:.2f}\\t{}\".format(similarity_scores[idx], corpus[idx]))"
   ]
  },
  {
   "attachments": {},
   "cell_type": "markdown",
   "metadata": {},
   "source": [
    "Ok ça fonctionne bien"
   ]
  },
  {
   "attachments": {},
   "cell_type": "markdown",
   "metadata": {},
   "source": [
    "Les modèles du papier sont dispo [ici](https://sbert.net/docs/pretrained-models/ce-msmarco.html) et [ici](https://www.sbert.net/docs/pretrained_cross-encoders.html). On peut mettre n'importe quel model de Hugging face je pense\n",
    "* nboost/pt-bert-base-uncased-msmarco\n",
    "* nboost/pt-bert-large-msmarco\n",
    "* cross-encoder/stsb-distilroberta-base\n",
    "* Plusieurs mini LM de Dispo. Avec un nombre de layer différent, j'ai pas trouvé dans le papier lequel est utilisé"
   ]
  },
  {
   "cell_type": "code",
   "execution_count": null,
   "metadata": {},
   "outputs": [],
   "source": []
  }
 ],
 "metadata": {
  "kernelspec": {
   "display_name": ".venv",
   "language": "python",
   "name": "python3"
  },
  "language_info": {
   "codemirror_mode": {
    "name": "ipython",
    "version": 3
   },
   "file_extension": ".py",
   "mimetype": "text/x-python",
   "name": "python",
   "nbconvert_exporter": "python",
   "pygments_lexer": "ipython3",
   "version": "3.8.10"
  },
  "orig_nbformat": 4
 },
 "nbformat": 4,
 "nbformat_minor": 2
}
