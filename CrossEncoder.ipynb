{
 "cells": [
  {
   "cell_type": "code",
   "execution_count": 14,
   "metadata": {},
   "outputs": [
    {
     "name": "stdout",
     "output_type": "stream",
     "text": [
      "Query: A man is eating pasta.\n",
      "0.67\tA man is eating food.\n",
      "0.34\tA man is eating a piece of bread.\n",
      "0.08\tA man is riding a horse.\n",
      "0.07\tA man is riding a white horse on an enclosed ground.\n",
      "0.01\tThe girl is carrying a baby.\n",
      "0.01\tTwo men pushed carts through the woods.\n",
      "0.01\tA monkey is playing drums.\n",
      "0.01\tA woman is playing violin.\n",
      "0.01\tA cheetah is running behind its prey.\n"
     ]
    }
   ],
   "source": [
    "from sentence_transformers.cross_encoder import CrossEncoder\n",
    "import numpy as np\n",
    "\n",
    "# Pre-trained cross encoder\n",
    "model = CrossEncoder('cross-encoder/stsb-distilroberta-base')\n",
    "\n",
    "# We want to compute the similarity between the query sentence\n",
    "query = 'A man is eating pasta.'\n",
    "\n",
    "# With all sentences in the corpus\n",
    "corpus = ['A man is eating food.',\n",
    "          'A man is eating a piece of bread.',\n",
    "          'The girl is carrying a baby.',\n",
    "          'A man is riding a horse.',\n",
    "          'A woman is playing violin.',\n",
    "          'Two men pushed carts through the woods.',\n",
    "          'A man is riding a white horse on an enclosed ground.',\n",
    "          'A monkey is playing drums.',\n",
    "          'A cheetah is running behind its prey.'\n",
    "          ]\n",
    "\n",
    "# So we create the respective sentence combinations\n",
    "sentence_combinations = [[query, corpus_sentence] for corpus_sentence in corpus]\n",
    "\n",
    "# Compute the similarity scores for these combinations\n",
    "similarity_scores = model.predict(sentence_combinations)\n",
    "\n",
    "# Sort the scores in decreasing order\n",
    "sim_scores_argsort = reversed(np.argsort(similarity_scores))\n",
    "\n",
    "# Print the scores\n",
    "print(\"Query:\", query)\n",
    "for idx in sim_scores_argsort:\n",
    "    print(\"{:.2f}\\t{}\".format(similarity_scores[idx], corpus[idx]))"
   ]
  },
  {
   "attachments": {},
   "cell_type": "markdown",
   "metadata": {},
   "source": [
    "Ok ça fonctionne bien"
   ]
  },
  {
   "attachments": {},
   "cell_type": "markdown",
   "metadata": {},
   "source": [
    "Les modèles du papier sont dispo [ici](https://sbert.net/docs/pretrained-models/ce-msmarco.html) et [ici](https://www.sbert.net/docs/pretrained_cross-encoders.html). On peut mettre n'importe quel model de Hugging face je pense\n",
    "* nboost/pt-bert-base-uncased-msmarco\n",
    "* nboost/pt-bert-large-msmarco\n",
    "* cross-encoder/stsb-distilroberta-base\n",
    "* Plusieurs mini LM de Dispo. Avec un nombre de layer différent, j'ai pas trouvé dans le papier lequel est utilisé"
   ]
  },
  {
   "cell_type": "code",
   "execution_count": 7,
   "metadata": {},
   "outputs": [
    {
     "data": {
      "text/plain": [
       "array([['100', '81', '16', '42', '35', '0', '31', '35', '30']],\n",
       "      dtype='<U21')"
      ]
     },
     "execution_count": 7,
     "metadata": {},
     "output_type": "execute_result"
    }
   ],
   "source": [
    "from src.bm25 import BM25, min_max_local\n",
    "bm25 = BM25().fit(corpus)\n",
    "queries = ['A man is eating pasta.']\n",
    "queries_score = bm25.predict(queries)\n",
    "queries_score_normalized = (min_max_local(queries_score)*100).astype(int).astype(str)\n",
    "queries_score_normalized"
   ]
  },
  {
   "cell_type": "code",
   "execution_count": 20,
   "metadata": {},
   "outputs": [
    {
     "data": {
      "text/plain": [
       "[['A man is eating pasta.', '100', 'A man is eating food.'],\n",
       " ['A man is eating pasta.', '81', 'A man is eating a piece of bread.'],\n",
       " ['A man is eating pasta.', '16', 'The girl is carrying a baby.'],\n",
       " ['A man is eating pasta.', '42', 'A man is riding a horse.'],\n",
       " ['A man is eating pasta.', '35', 'A woman is playing violin.'],\n",
       " ['A man is eating pasta.', '0', 'Two men pushed carts through the woods.'],\n",
       " ['A man is eating pasta.',\n",
       "  '31',\n",
       "  'A man is riding a white horse on an enclosed ground.'],\n",
       " ['A man is eating pasta.', '35', 'A monkey is playing drums.'],\n",
       " ['A man is eating pasta.', '30', 'A cheetah is running behind its prey.']]"
      ]
     },
     "execution_count": 20,
     "metadata": {},
     "output_type": "execute_result"
    }
   ],
   "source": [
    "sentence_combinations = [\n",
    "    [query, bm25_score, corpus_sentence]\n",
    "    for corpus_sentence, bm25_score in zip(corpus, queries_score_normalized[0])\n",
    "]\n",
    "sentence_combinations"
   ]
  },
  {
   "cell_type": "code",
   "execution_count": 21,
   "metadata": {},
   "outputs": [
    {
     "name": "stderr",
     "output_type": "stream",
     "text": [
      "/home/charles/Information-Retrieval-Project/.venv/lib/python3.8/site-packages/torch/nn/modules/loss.py:536: UserWarning: Using a target size (torch.Size([9, 14])) that is different to the input size (torch.Size([9])). This will likely lead to incorrect results due to broadcasting. Please ensure they have the same size.\n",
      "  return F.mse_loss(input, target, reduction=self.reduction)\n"
     ]
    },
    {
     "ename": "RuntimeError",
     "evalue": "The size of tensor a (9) must match the size of tensor b (14) at non-singleton dimension 1",
     "output_type": "error",
     "traceback": [
      "\u001b[0;31m---------------------------------------------------------------------------\u001b[0m",
      "\u001b[0;31mRuntimeError\u001b[0m                              Traceback (most recent call last)",
      "Cell \u001b[0;32mIn[21], line 2\u001b[0m\n\u001b[1;32m      1\u001b[0m \u001b[39m# Compute the similarity scores for these combinations\u001b[39;00m\n\u001b[0;32m----> 2\u001b[0m similarity_scores \u001b[39m=\u001b[39m model\u001b[39m.\u001b[39;49mpredict(sentence_combinations)\n\u001b[1;32m      4\u001b[0m \u001b[39m# Sort the scores in decreasing order\u001b[39;00m\n\u001b[1;32m      5\u001b[0m sim_scores_argsort \u001b[39m=\u001b[39m \u001b[39mreversed\u001b[39m(np\u001b[39m.\u001b[39margsort(similarity_scores))\n",
      "File \u001b[0;32m~/Information-Retrieval-Project/.venv/lib/python3.8/site-packages/sentence_transformers/cross_encoder/CrossEncoder.py:275\u001b[0m, in \u001b[0;36mCrossEncoder.predict\u001b[0;34m(self, sentences, batch_size, show_progress_bar, num_workers, activation_fct, apply_softmax, convert_to_numpy, convert_to_tensor)\u001b[0m\n\u001b[1;32m    273\u001b[0m \u001b[39mwith\u001b[39;00m torch\u001b[39m.\u001b[39mno_grad():\n\u001b[1;32m    274\u001b[0m     \u001b[39mfor\u001b[39;00m features \u001b[39min\u001b[39;00m iterator:\n\u001b[0;32m--> 275\u001b[0m         model_predictions \u001b[39m=\u001b[39m \u001b[39mself\u001b[39;49m\u001b[39m.\u001b[39;49mmodel(\u001b[39m*\u001b[39;49m\u001b[39m*\u001b[39;49mfeatures, return_dict\u001b[39m=\u001b[39;49m\u001b[39mTrue\u001b[39;49;00m)\n\u001b[1;32m    276\u001b[0m         logits \u001b[39m=\u001b[39m activation_fct(model_predictions\u001b[39m.\u001b[39mlogits)\n\u001b[1;32m    278\u001b[0m         \u001b[39mif\u001b[39;00m apply_softmax \u001b[39mand\u001b[39;00m \u001b[39mlen\u001b[39m(logits[\u001b[39m0\u001b[39m]) \u001b[39m>\u001b[39m \u001b[39m1\u001b[39m:\n",
      "File \u001b[0;32m~/Information-Retrieval-Project/.venv/lib/python3.8/site-packages/torch/nn/modules/module.py:1501\u001b[0m, in \u001b[0;36mModule._call_impl\u001b[0;34m(self, *args, **kwargs)\u001b[0m\n\u001b[1;32m   1496\u001b[0m \u001b[39m# If we don't have any hooks, we want to skip the rest of the logic in\u001b[39;00m\n\u001b[1;32m   1497\u001b[0m \u001b[39m# this function, and just call forward.\u001b[39;00m\n\u001b[1;32m   1498\u001b[0m \u001b[39mif\u001b[39;00m \u001b[39mnot\u001b[39;00m (\u001b[39mself\u001b[39m\u001b[39m.\u001b[39m_backward_hooks \u001b[39mor\u001b[39;00m \u001b[39mself\u001b[39m\u001b[39m.\u001b[39m_backward_pre_hooks \u001b[39mor\u001b[39;00m \u001b[39mself\u001b[39m\u001b[39m.\u001b[39m_forward_hooks \u001b[39mor\u001b[39;00m \u001b[39mself\u001b[39m\u001b[39m.\u001b[39m_forward_pre_hooks\n\u001b[1;32m   1499\u001b[0m         \u001b[39mor\u001b[39;00m _global_backward_pre_hooks \u001b[39mor\u001b[39;00m _global_backward_hooks\n\u001b[1;32m   1500\u001b[0m         \u001b[39mor\u001b[39;00m _global_forward_hooks \u001b[39mor\u001b[39;00m _global_forward_pre_hooks):\n\u001b[0;32m-> 1501\u001b[0m     \u001b[39mreturn\u001b[39;00m forward_call(\u001b[39m*\u001b[39;49margs, \u001b[39m*\u001b[39;49m\u001b[39m*\u001b[39;49mkwargs)\n\u001b[1;32m   1502\u001b[0m \u001b[39m# Do not call functions when jit is used\u001b[39;00m\n\u001b[1;32m   1503\u001b[0m full_backward_hooks, non_full_backward_hooks \u001b[39m=\u001b[39m [], []\n",
      "File \u001b[0;32m~/Information-Retrieval-Project/.venv/lib/python3.8/site-packages/transformers/models/roberta/modeling_roberta.py:1239\u001b[0m, in \u001b[0;36mRobertaForSequenceClassification.forward\u001b[0;34m(self, input_ids, attention_mask, token_type_ids, position_ids, head_mask, inputs_embeds, labels, output_attentions, output_hidden_states, return_dict)\u001b[0m\n\u001b[1;32m   1237\u001b[0m loss_fct \u001b[39m=\u001b[39m MSELoss()\n\u001b[1;32m   1238\u001b[0m \u001b[39mif\u001b[39;00m \u001b[39mself\u001b[39m\u001b[39m.\u001b[39mnum_labels \u001b[39m==\u001b[39m \u001b[39m1\u001b[39m:\n\u001b[0;32m-> 1239\u001b[0m     loss \u001b[39m=\u001b[39m loss_fct(logits\u001b[39m.\u001b[39;49msqueeze(), labels\u001b[39m.\u001b[39;49msqueeze())\n\u001b[1;32m   1240\u001b[0m \u001b[39melse\u001b[39;00m:\n\u001b[1;32m   1241\u001b[0m     loss \u001b[39m=\u001b[39m loss_fct(logits, labels)\n",
      "File \u001b[0;32m~/Information-Retrieval-Project/.venv/lib/python3.8/site-packages/torch/nn/modules/module.py:1501\u001b[0m, in \u001b[0;36mModule._call_impl\u001b[0;34m(self, *args, **kwargs)\u001b[0m\n\u001b[1;32m   1496\u001b[0m \u001b[39m# If we don't have any hooks, we want to skip the rest of the logic in\u001b[39;00m\n\u001b[1;32m   1497\u001b[0m \u001b[39m# this function, and just call forward.\u001b[39;00m\n\u001b[1;32m   1498\u001b[0m \u001b[39mif\u001b[39;00m \u001b[39mnot\u001b[39;00m (\u001b[39mself\u001b[39m\u001b[39m.\u001b[39m_backward_hooks \u001b[39mor\u001b[39;00m \u001b[39mself\u001b[39m\u001b[39m.\u001b[39m_backward_pre_hooks \u001b[39mor\u001b[39;00m \u001b[39mself\u001b[39m\u001b[39m.\u001b[39m_forward_hooks \u001b[39mor\u001b[39;00m \u001b[39mself\u001b[39m\u001b[39m.\u001b[39m_forward_pre_hooks\n\u001b[1;32m   1499\u001b[0m         \u001b[39mor\u001b[39;00m _global_backward_pre_hooks \u001b[39mor\u001b[39;00m _global_backward_hooks\n\u001b[1;32m   1500\u001b[0m         \u001b[39mor\u001b[39;00m _global_forward_hooks \u001b[39mor\u001b[39;00m _global_forward_pre_hooks):\n\u001b[0;32m-> 1501\u001b[0m     \u001b[39mreturn\u001b[39;00m forward_call(\u001b[39m*\u001b[39;49margs, \u001b[39m*\u001b[39;49m\u001b[39m*\u001b[39;49mkwargs)\n\u001b[1;32m   1502\u001b[0m \u001b[39m# Do not call functions when jit is used\u001b[39;00m\n\u001b[1;32m   1503\u001b[0m full_backward_hooks, non_full_backward_hooks \u001b[39m=\u001b[39m [], []\n",
      "File \u001b[0;32m~/Information-Retrieval-Project/.venv/lib/python3.8/site-packages/torch/nn/modules/loss.py:536\u001b[0m, in \u001b[0;36mMSELoss.forward\u001b[0;34m(self, input, target)\u001b[0m\n\u001b[1;32m    535\u001b[0m \u001b[39mdef\u001b[39;00m \u001b[39mforward\u001b[39m(\u001b[39mself\u001b[39m, \u001b[39minput\u001b[39m: Tensor, target: Tensor) \u001b[39m-\u001b[39m\u001b[39m>\u001b[39m Tensor:\n\u001b[0;32m--> 536\u001b[0m     \u001b[39mreturn\u001b[39;00m F\u001b[39m.\u001b[39;49mmse_loss(\u001b[39minput\u001b[39;49m, target, reduction\u001b[39m=\u001b[39;49m\u001b[39mself\u001b[39;49m\u001b[39m.\u001b[39;49mreduction)\n",
      "File \u001b[0;32m~/Information-Retrieval-Project/.venv/lib/python3.8/site-packages/torch/nn/functional.py:3294\u001b[0m, in \u001b[0;36mmse_loss\u001b[0;34m(input, target, size_average, reduce, reduction)\u001b[0m\n\u001b[1;32m   3291\u001b[0m \u001b[39mif\u001b[39;00m size_average \u001b[39mis\u001b[39;00m \u001b[39mnot\u001b[39;00m \u001b[39mNone\u001b[39;00m \u001b[39mor\u001b[39;00m reduce \u001b[39mis\u001b[39;00m \u001b[39mnot\u001b[39;00m \u001b[39mNone\u001b[39;00m:\n\u001b[1;32m   3292\u001b[0m     reduction \u001b[39m=\u001b[39m _Reduction\u001b[39m.\u001b[39mlegacy_get_string(size_average, reduce)\n\u001b[0;32m-> 3294\u001b[0m expanded_input, expanded_target \u001b[39m=\u001b[39m torch\u001b[39m.\u001b[39;49mbroadcast_tensors(\u001b[39minput\u001b[39;49m, target)\n\u001b[1;32m   3295\u001b[0m \u001b[39mreturn\u001b[39;00m torch\u001b[39m.\u001b[39m_C\u001b[39m.\u001b[39m_nn\u001b[39m.\u001b[39mmse_loss(expanded_input, expanded_target, _Reduction\u001b[39m.\u001b[39mget_enum(reduction))\n",
      "File \u001b[0;32m~/Information-Retrieval-Project/.venv/lib/python3.8/site-packages/torch/functional.py:74\u001b[0m, in \u001b[0;36mbroadcast_tensors\u001b[0;34m(*tensors)\u001b[0m\n\u001b[1;32m     72\u001b[0m \u001b[39mif\u001b[39;00m has_torch_function(tensors):\n\u001b[1;32m     73\u001b[0m     \u001b[39mreturn\u001b[39;00m handle_torch_function(broadcast_tensors, tensors, \u001b[39m*\u001b[39mtensors)\n\u001b[0;32m---> 74\u001b[0m \u001b[39mreturn\u001b[39;00m _VF\u001b[39m.\u001b[39;49mbroadcast_tensors(tensors)\n",
      "\u001b[0;31mRuntimeError\u001b[0m: The size of tensor a (9) must match the size of tensor b (14) at non-singleton dimension 1"
     ]
    }
   ],
   "source": [
    "# Compute the similarity scores for these combinations\n",
    "similarity_scores = model.predict(sentence_combinations)\n",
    "\n",
    "# Sort the scores in decreasing order\n",
    "sim_scores_argsort = reversed(np.argsort(similarity_scores))\n",
    "\n",
    "# Print the scores\n",
    "print(\"Query:\", query)\n",
    "for idx in sim_scores_argsort:\n",
    "    print(\"{:.2f}\\t{}\".format(similarity_scores[idx], corpus[idx]))"
   ]
  },
  {
   "cell_type": "code",
   "execution_count": null,
   "metadata": {},
   "outputs": [],
   "source": []
  }
 ],
 "metadata": {
  "kernelspec": {
   "display_name": ".venv",
   "language": "python",
   "name": "python3"
  },
  "language_info": {
   "codemirror_mode": {
    "name": "ipython",
    "version": 3
   },
   "file_extension": ".py",
   "mimetype": "text/x-python",
   "name": "python",
   "nbconvert_exporter": "python",
   "pygments_lexer": "ipython3",
   "version": "3.8.10"
  },
  "orig_nbformat": 4
 },
 "nbformat": 4,
 "nbformat_minor": 2
}
